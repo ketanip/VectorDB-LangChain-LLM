{
 "cells": [
  {
   "cell_type": "code",
   "execution_count": null,
   "metadata": {},
   "outputs": [],
   "source": [
    "# Install required packages.\n",
    "%pip install chromadb\n",
    "%pip install langchain\n",
    "%pip install sentence-transformers\n",
    "%pip install openai"
   ]
  },
  {
   "cell_type": "code",
   "execution_count": null,
   "metadata": {},
   "outputs": [],
   "source": [
    "# Importing data.\n",
    "from langchain.embeddings import HuggingFaceEmbeddings\n",
    "from langchain.document_loaders.csv_loader import CSVLoader\n",
    "from langchain.text_splitter import CharacterTextSplitter\n",
    "from langchain.vectorstores import Chroma\n",
    "from langchain.prompts import PromptTemplate\n"
   ]
  },
  {
   "cell_type": "code",
   "execution_count": null,
   "metadata": {},
   "outputs": [],
   "source": [
    "# Loading embeddings from ChromaDB\n",
    "embeddings = HuggingFaceEmbeddings(model_name=\"sentence-transformers/all-mpnet-base-v2\")"
   ]
  },
  {
   "cell_type": "code",
   "execution_count": null,
   "metadata": {},
   "outputs": [],
   "source": [
    "# Loading Data\n",
    "loader = CSVLoader(file_path='./raw_data/bhagavad-gita.csv', encoding=\"utf-8\")\n",
    "documents = loader.load()"
   ]
  },
  {
   "cell_type": "code",
   "execution_count": null,
   "metadata": {},
   "outputs": [],
   "source": [
    "# split it into chunks\n",
    "text_splitter = CharacterTextSplitter(chunk_size=1000, chunk_overlap=0)\n",
    "docs = text_splitter.split_documents(documents)\n"
   ]
  },
  {
   "cell_type": "code",
   "execution_count": null,
   "metadata": {},
   "outputs": [],
   "source": [
    "# save to disk\n",
    "db2 = Chroma.from_documents(docs, embeddings, persist_directory=\"./chroma_db\")"
   ]
  },
  {
   "cell_type": "code",
   "execution_count": null,
   "metadata": {},
   "outputs": [],
   "source": [
    "# loading chroma data from disk\n",
    "db = Chroma(persist_directory=\"./chroma_db\", embedding_function=embeddings)"
   ]
  },
  {
   "cell_type": "code",
   "execution_count": null,
   "metadata": {},
   "outputs": [
    {
     "data": {
      "text/plain": [
       "Document(page_content='\\ufeffVerse: Verse 2.20\\nEnlgish Translation: The Blessed Lord said: Dear ARJUNA, the ATMAN or Soul can neither be born nor can it die. It is forever immortal, eternal and ancient. The Soul in a body does not die when the body itself perishes and ceases to exist. The Soul always lives on.', metadata={'row': 65, 'source': 'C:/Users/ketan/Desktop/New folder (2)/data/bhagavad-gita.csv'})"
      ]
     },
     "execution_count": 131,
     "metadata": {},
     "output_type": "execute_result"
    }
   ],
   "source": [
    "# Querying data from ChromaDB\n",
    "query = \"What happens after death ?\"\n",
    "docs = db2.similarity_search(query)\n",
    "docs[0]\n"
   ]
  },
  {
   "cell_type": "code",
   "execution_count": null,
   "metadata": {},
   "outputs": [],
   "source": [
    "# Making a string of related verses.\n",
    "verses = \"\"\n",
    "\n",
    "for doc in docs:\n",
    "    verses += doc.page_content + \"\\n\""
   ]
  },
  {
   "cell_type": "code",
   "execution_count": null,
   "metadata": {},
   "outputs": [],
   "source": [
    "# Template for prompt.\n",
    "template = \"\"\"\n",
    "Given the following extracted parts of a long document (\"SOURCES\") and a question (\"QUESTION\").\n",
    "Don't try to make up an answer and use the text in the SOURCES only for the answer. \n",
    "If you don't know the answer, just say that you don't know.\n",
    "List down all the SOURCES in the response.\n",
    "\n",
    "QUESTION: {question}\n",
    "=========\n",
    "SOURCES:\n",
    "{verses}\n",
    "=========\n",
    "ANSWER:\n",
    "\"\"\"\n",
    "\n",
    "prompt = PromptTemplate(template=template, input_variables=[\"question\", \"verses\"])"
   ]
  },
  {
   "cell_type": "code",
   "execution_count": null,
   "metadata": {},
   "outputs": [],
   "source": [
    "# Function to trim tokens in a string.\n",
    "def trim_string_by_tokens(input_string, num_tokens):\n",
    "    # Split the string into tokens\n",
    "    tokens = input_string.split()\n",
    "\n",
    "    # Ensure the number of tokens to keep is not greater than the total number of tokens\n",
    "    num_tokens = min(num_tokens, len(tokens))\n",
    "\n",
    "    # Join the desired number of tokens back together\n",
    "    trimmed_string = ' '.join(tokens[:num_tokens])\n",
    "\n",
    "    return trimmed_string\n"
   ]
  },
  {
   "cell_type": "code",
   "execution_count": null,
   "metadata": {},
   "outputs": [
    {
     "data": {
      "text/plain": [
       "'\\nGiven the following extracted parts of a long document (\"SOURCES\") and a question (\"QUESTION\").\\nDon\\'t try to make up an answer and use the text in the SOURCES only for the answer. \\nIf you don\\'t know the answer, just say that you don\\'t know.\\nList down all the SOURCES in the response.\\n\\nQUESTION: What happens after death ?\\n=========\\nSOURCES:\\n\\ufeffVerse: Verse 2.20\\nEnlgish Translation: The Blessed Lord said: Dear ARJUNA, the ATMAN or Soul can neither be born nor can it die. It is forever immortal, eternal and ancient. The Soul in a body does not die when the body itself perishes and ceases to exist. The Soul always lives on.\\n\\ufeffVerse: Verse 7.30\\nEnlgish Translation: Only those wise men (Yogis) who truly know Me as being above all elements of the world (Adhibhutha), above all Deities, and above all sacrifices, experience Me even at the end of their existence on earth (death), and they ultimately attain Me, the Supreme Soul.\\n\\ufeffVerse: Verse 14.20\\nEnlgish Translation: A person whose soul has risen above these three conditions of nature that actually lie within the mortal body, he becomes free from the cycle of birth and death as well as from sorrow and temporary happiness. He then enters into Me and thus becomes immortal.\\n\\ufeffVerse: Verse 2.22\\nEnlgish Translation: The Blessed Lord said: Just as a person gets rid of old clothing and replaces the old clothing with new ones, similarly, the soul changes from one body to a new body when its body has become old worn out and has stopped functioning.\\n\\n=========\\nANSWER:\\n'"
      ]
     },
     "execution_count": 135,
     "metadata": {},
     "output_type": "execute_result"
    }
   ],
   "source": [
    "# Trimming final prompt to fit in context window.\n",
    "final_prompt = prompt.format(question=query, verses=verses)\n",
    "final_prompt = (final_prompt, 1500)[0]\n",
    "final_prompt"
   ]
  },
  {
   "cell_type": "code",
   "execution_count": null,
   "metadata": {},
   "outputs": [],
   "source": [
    "# Loading OpenAI model.\n",
    "# Using local Zephyr 7B β ( Mistral Architecture ), using LM Studio.\n",
    "llm = OpenAI(model=\"local-Zephyr-7B\",base_url=\"http://localhost:1234/v1\", openai_api_key=\"TEST_KEY\", n=1500)"
   ]
  },
  {
   "cell_type": "code",
   "execution_count": null,
   "metadata": {},
   "outputs": [],
   "source": [
    "# Generating Response from LLM.\n",
    "llm_res = llm(final_prompt)\n",
    "llm_res"
   ]
  }
 ],
 "metadata": {
  "kernelspec": {
   "display_name": "Python 3",
   "language": "python",
   "name": "python3"
  },
  "language_info": {
   "codemirror_mode": {
    "name": "ipython",
    "version": 3
   },
   "file_extension": ".py",
   "mimetype": "text/x-python",
   "name": "python",
   "nbconvert_exporter": "python",
   "pygments_lexer": "ipython3",
   "version": "3.11.5"
  }
 },
 "nbformat": 4,
 "nbformat_minor": 2
}
